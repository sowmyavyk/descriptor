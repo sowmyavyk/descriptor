{
 "cells": [
  {
   "cell_type": "code",
   "execution_count": 1,
   "metadata": {},
   "outputs": [
    {
     "name": "stdout",
     "output_type": "stream",
     "text": [
      "Filtered CSV saved at C:/Users/sriyo/descriptor/student_resource/dataset/height_data.csv\n"
     ]
    }
   ],
   "source": [
    "import pandas as pd\n",
    "\n",
    "# Load the CSV data\n",
    "csv_file = \"C:/Users/sriyo/descriptor/student_resource/dataset/train.csv\"\n",
    "df = pd.read_csv(csv_file)\n",
    "\n",
    "# Filter rows where the entity_name is 'height'\n",
    "height_df = df[df['entity_name'].str.contains('height', case=False)]\n",
    "\n",
    "# Save the filtered DataFrame as a new CSV\n",
    "filtered_csv_file = \"C:/Users/sriyo/descriptor/student_resource/dataset/height_data.csv\"\n",
    "height_df.to_csv(filtered_csv_file, index=False)\n",
    "\n",
    "print(f\"Filtered CSV saved at {filtered_csv_file}\")\n"
   ]
  },
  {
   "cell_type": "code",
   "execution_count": null,
   "metadata": {},
   "outputs": [],
   "source": [
    "import os\n",
    "import pandas as pd\n",
    "import requests\n",
    "from tqdm import tqdm\n",
    "\n",
    "# Load the filtered CSV file\n",
    "csv_file = \"C:/Users/sriyo/descriptor/student_resource/dataset/height_data.csv\"\n",
    "df = pd.read_csv(csv_file)\n",
    "\n",
    "# Create a folder to store the images\n",
    "output_folder = \"C:/Users/sriyo/descriptor/student_resource/dataset/height_images\"\n",
    "os.makedirs(output_folder, exist_ok=True)\n",
    "\n",
    "# Function to download an image\n",
    "def download_image(url, save_path):\n",
    "    try:\n",
    "        response = requests.get(url, stream=True)\n",
    "        if response.status_code == 200:\n",
    "            with open(save_path, 'wb') as f:\n",
    "                f.write(response.content)\n",
    "    except Exception as e:\n",
    "        print(f\"Failed to download {url}: {e}\")\n",
    "\n",
    "# Download the first 1000 images and save them using the unique part of the URL\n",
    "for idx, row in tqdm(df.iterrows(), total=min(1000, len(df))):\n",
    "    if idx >= 1000:\n",
    "        break\n",
    "    image_url = row['image_link']  # Adjust the column name if needed\n",
    "    image_name = os.path.basename(image_url)  # Extract the unique part of the URL (e.g., 61I9XdN6OFL.jpg)\n",
    "    save_path = os.path.join(output_folder, image_name)\n",
    "    \n",
    "    # Download the image\n",
    "    download_image(image_url, save_path)\n",
    "\n",
    "print(f\"Downloaded {min(1000, len(df))} images and saved them to {output_folder}\")\n"
   ]
  },
  {
   "cell_type": "code",
   "execution_count": null,
   "metadata": {},
   "outputs": [],
   "source": []
  }
 ],
 "metadata": {
  "kernelspec": {
   "display_name": "Python 3",
   "language": "python",
   "name": "python3"
  },
  "language_info": {
   "codemirror_mode": {
    "name": "ipython",
    "version": 3
   },
   "file_extension": ".py",
   "mimetype": "text/x-python",
   "name": "python",
   "nbconvert_exporter": "python",
   "pygments_lexer": "ipython3",
   "version": "3.10.10"
  }
 },
 "nbformat": 4,
 "nbformat_minor": 2
}
